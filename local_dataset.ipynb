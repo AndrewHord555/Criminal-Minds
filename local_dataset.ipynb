{
 "cells": [
  {
   "cell_type": "code",
   "execution_count": 5,
   "id": "3698fd43-124b-4dd7-95d8-6606ed7ddd2e",
   "metadata": {},
   "outputs": [],
   "source": [
    "import pandas as pd\n",
    "\n",
    "def createlocal_set(dataSet, x, y):\n",
    "    local_set = dataSet\n",
    "    \n",
    "    local_set['Distance'] = ((local_set['Longitude'] - x)**2 + (local_set['Latitude'] - y)**2)**(1/2)\n",
    "    local_set = local_set[local_set.Distance <= 0.01]    \n",
    "    \n",
    "    return local_set"
   ]
  },
  {
   "cell_type": "code",
   "execution_count": null,
   "id": "f38262c5-ad57-4537-9b34-9126b56dc45a",
   "metadata": {},
   "outputs": [],
   "source": []
  }
 ],
 "metadata": {
  "kernelspec": {
   "display_name": "Python 3",
   "language": "python",
   "name": "python3"
  },
  "language_info": {
   "codemirror_mode": {
    "name": "ipython",
    "version": 3
   },
   "file_extension": ".py",
   "mimetype": "text/x-python",
   "name": "python",
   "nbconvert_exporter": "python",
   "pygments_lexer": "ipython3",
   "version": "3.8.8"
  }
 },
 "nbformat": 4,
 "nbformat_minor": 5
}
