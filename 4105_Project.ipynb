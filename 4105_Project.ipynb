{
 "cells": [
  {
   "cell_type": "code",
   "execution_count": 1,
   "id": "9295542b-cbc1-45d5-b4ff-10d8b452dc56",
   "metadata": {},
   "outputs": [],
   "source": [
    "import os\n",
    "import pandas as pd\n",
    "import numpy as np\n",
    "\n",
    "import ee\n",
    "import geemap\n",
    "import ipywidgets as widgets\n",
    "from ipyleaflet import WidgetControl"
   ]
  },
  {
   "cell_type": "code",
   "execution_count": 9,
   "id": "9942c98e-2bc4-4246-a0b6-4358cbb8604f",
   "metadata": {},
   "outputs": [
    {
     "data": {
      "application/vnd.jupyter.widget-view+json": {
       "model_id": "937f7b2acfd84a8bac97802a9a6d8a0c",
       "version_major": 2,
       "version_minor": 0
      },
      "text/plain": [
       "Map(center=[35.9132, -79.0558], controls=(WidgetControl(options=['position', 'transparent_bg'], widget=HBox(ch…"
      ]
     },
     "metadata": {},
     "output_type": "display_data"
    }
   ],
   "source": [
    "Map = geemap.Map(center=(35.9132,-79.0558), zoom=12, min_zoom = 12, max_zoom = 18, width = 'small', height = 'medium') \n",
    "Map\n"
   ]
  },
  {
   "cell_type": "code",
   "execution_count": 10,
   "id": "75f43cb7-35c0-4f5f-ac21-056610feed29",
   "metadata": {},
   "outputs": [],
   "source": [
    "# Add an output widget to the map\n",
    "output_widget = widgets.Output(layout={'border': '1px solid black'})\n",
    "output_control = WidgetControl(widget=output_widget, position='bottomright')\n",
    "Map.add_control(output_control)"
   ]
  },
  {
   "cell_type": "code",
   "execution_count": 11,
   "id": "4f531854-90e7-4f5b-aa58-8d2486c0050c",
   "metadata": {},
   "outputs": [],
   "source": [
    "latlon = [0]*2 \n",
    "#Initializer varaible"
   ]
  },
  {
   "cell_type": "code",
   "execution_count": 15,
   "id": "3af8fe77-2dbe-45cb-a27d-dd003f303c3c",
   "metadata": {},
   "outputs": [],
   "source": [
    "# Capture user interaction with the map\n",
    "\n",
    "def handle_interaction(**kwargs):\n",
    "    global latlon   \n",
    "            \n",
    "    latlon = kwargs.get('coordinates')\n",
    "    if kwargs.get('type') == 'click':\n",
    "        Map.default_style = {'cursor': 'wait'}\n",
    "        xy = ee.Geometry.Point(latlon[::-1])\n",
    "        with output_widget:\n",
    "            output_widget.clear_output()\n",
    "\n",
    "            print(latlon,'Criminal data happons here')\n",
    "    Map.default_style = {'cursor': 'pointer'}\n",
    "Map.on_interaction(handle_interaction)\n",
    "\n",
    "#output after reruning cell\n",
    "latlon\n",
    "x=latlon[0] \n",
    "y = latlon[1]\n"
   ]
  },
  {
   "cell_type": "code",
   "execution_count": 7,
   "id": "4fdb4760-55e6-4b9d-b5a6-2ccd7fd7a90c",
   "metadata": {},
   "outputs": [
    {
     "data": {
      "text/html": [
       "<div>\n",
       "<style scoped>\n",
       "    .dataframe tbody tr th:only-of-type {\n",
       "        vertical-align: middle;\n",
       "    }\n",
       "\n",
       "    .dataframe tbody tr th {\n",
       "        vertical-align: top;\n",
       "    }\n",
       "\n",
       "    .dataframe thead th {\n",
       "        text-align: right;\n",
       "    }\n",
       "</style>\n",
       "<table border=\"1\" class=\"dataframe\">\n",
       "  <thead>\n",
       "    <tr style=\"text-align: right;\">\n",
       "      <th></th>\n",
       "      <th>Longitude</th>\n",
       "      <th>Latitude</th>\n",
       "      <th>Offense</th>\n",
       "      <th>Forcible</th>\n",
       "      <th>Weapon_Description</th>\n",
       "      <th>Date</th>\n",
       "      <th>Time</th>\n",
       "    </tr>\n",
       "  </thead>\n",
       "  <tbody>\n",
       "    <tr>\n",
       "      <th>0</th>\n",
       "      <td>-79.032123</td>\n",
       "      <td>35.932317</td>\n",
       "      <td>B&amp;E RESIDENCE-FORCE</td>\n",
       "      <td>Y</td>\n",
       "      <td>NaN</td>\n",
       "      <td>2010/02/16</td>\n",
       "      <td>16:30:00</td>\n",
       "    </tr>\n",
       "    <tr>\n",
       "      <th>1</th>\n",
       "      <td>-79.007788</td>\n",
       "      <td>35.944235</td>\n",
       "      <td>SUSPICIOUS PERSON</td>\n",
       "      <td>NaN</td>\n",
       "      <td>NaN</td>\n",
       "      <td>2010/02/16</td>\n",
       "      <td>23:27:00</td>\n",
       "    </tr>\n",
       "    <tr>\n",
       "      <th>2</th>\n",
       "      <td>-79.054006</td>\n",
       "      <td>35.925060</td>\n",
       "      <td>DRIVING WHILE IMPAIRED</td>\n",
       "      <td>N</td>\n",
       "      <td>NaN</td>\n",
       "      <td>2010/02/17</td>\n",
       "      <td>02:08:00</td>\n",
       "    </tr>\n",
       "    <tr>\n",
       "      <th>3</th>\n",
       "      <td>-79.052878</td>\n",
       "      <td>35.914568</td>\n",
       "      <td>LARCENY- ALL OTHER</td>\n",
       "      <td>N</td>\n",
       "      <td>NaN</td>\n",
       "      <td>2010/02/17</td>\n",
       "      <td>02:22:00</td>\n",
       "    </tr>\n",
       "    <tr>\n",
       "      <th>4</th>\n",
       "      <td>-79.061153</td>\n",
       "      <td>35.910799</td>\n",
       "      <td>SUSPICIOUS PERSON</td>\n",
       "      <td>N</td>\n",
       "      <td>NaN</td>\n",
       "      <td>2010/02/17</td>\n",
       "      <td>02:41:00</td>\n",
       "    </tr>\n",
       "  </tbody>\n",
       "</table>\n",
       "</div>"
      ],
      "text/plain": [
       "   Longitude   Latitude                 Offense Forcible Weapon_Description  \\\n",
       "0 -79.032123  35.932317     B&E RESIDENCE-FORCE        Y                NaN   \n",
       "1 -79.007788  35.944235       SUSPICIOUS PERSON      NaN                NaN   \n",
       "2 -79.054006  35.925060  DRIVING WHILE IMPAIRED        N                NaN   \n",
       "3 -79.052878  35.914568      LARCENY- ALL OTHER        N                NaN   \n",
       "4 -79.061153  35.910799       SUSPICIOUS PERSON        N                NaN   \n",
       "\n",
       "         Date      Time  \n",
       "0  2010/02/16  16:30:00  \n",
       "1  2010/02/16  23:27:00  \n",
       "2  2010/02/17  02:08:00  \n",
       "3  2010/02/17  02:22:00  \n",
       "4  2010/02/17  02:41:00  "
      ]
     },
     "execution_count": 7,
     "metadata": {},
     "output_type": "execute_result"
    }
   ],
   "source": [
    "PreCrime = pd.read_csv('PreCrime.csv')\n",
    "#Take out unnecessary variables\n",
    "PreCrime = PreCrime[['X','Y', 'Offense', 'Date_of_Occurrence', 'Forcible', 'Weapon_Description']]\n",
    "#Rename X and Y\n",
    "PreCrime = PreCrime.rename(columns = {'X':'Longitude','Y':'Latitude'})\n",
    "# split column and add new columns to cleanSet\n",
    "PreCrime[['Date', 'Time']] = PreCrime['Date_of_Occurrence'].str.split(' ', expand=True)\n",
    "PreCrime = PreCrime[['Longitude','Latitude', 'Offense', 'Forcible', 'Weapon_Description', 'Date', 'Time']]\n",
    "PreCrime['Time'] = PreCrime['Time'].str[:-3]\n",
    "PreCrime.head()\n"
   ]
  },
  {
   "cell_type": "code",
   "execution_count": 8,
   "id": "da2a7709-0c1f-4f24-8a44-9261bcf3a8fd",
   "metadata": {},
   "outputs": [],
   "source": [
    "#xtact valus to points.\n",
    "import os\n",
    "import ee\n",
    "import geemap"
   ]
  },
  {
   "cell_type": "code",
   "execution_count": null,
   "id": "68f37be1-35c4-47ca-bf73-597dadbf0ca9",
   "metadata": {},
   "outputs": [],
   "source": []
  }
 ],
 "metadata": {
  "kernelspec": {
   "display_name": "Python 3",
   "language": "python",
   "name": "python3"
  },
  "language_info": {
   "codemirror_mode": {
    "name": "ipython",
    "version": 3
   },
   "file_extension": ".py",
   "mimetype": "text/x-python",
   "name": "python",
   "nbconvert_exporter": "python",
   "pygments_lexer": "ipython3",
   "version": "3.8.8"
  }
 },
 "nbformat": 4,
 "nbformat_minor": 5
}
